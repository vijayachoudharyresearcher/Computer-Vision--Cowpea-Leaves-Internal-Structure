{
  "nbformat": 4,
  "nbformat_minor": 0,
  "metadata": {
    "colab": {
      "provenance": []
    },
    "kernelspec": {
      "name": "python3",
      "display_name": "Python 3"
    },
    "language_info": {
      "name": "python"
    }
  },
  "cells": [
    {
      "cell_type": "code",
      "execution_count": null,
      "metadata": {
        "id": "sMITKIxLmEjc"
      },
      "outputs": [],
      "source": [
        "img = cv2.imread('/content/drive/MyDrive/CowpeaBinaryInceptionV3/CowpeaICARImages/img14.png')\n",
        "canny = cv2.Canny(img, 100, 200)\n",
        "\n",
        "titles = ['image']\n",
        "images = [img, canny]\n",
        "for i in range (2):\n",
        "  plt.subplot(1, 2, i+1), plt.imshow(images[i], 'gray')\n",
        "  plt.title(titles[i])\n",
        "  plt.xticks([]), plt.yticks([])\n",
        "\n",
        "plt.show()"
      ]
    }
  ]
}